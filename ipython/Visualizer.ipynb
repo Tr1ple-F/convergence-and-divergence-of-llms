{
 "cells": [
  {
   "cell_type": "code",
   "execution_count": 1,
   "id": "59b3fe91-bfa6-4002-9f7c-ac8936706fea",
   "metadata": {},
   "outputs": [],
   "source": [
    "import numpy as np\n",
    "import json\n",
    "import os\n",
    "import matplotlib.pyplot as plt\n",
    "import matplotlib\n",
    "from IPython.display import display, HTML\n",
    "matplotlib.use('Agg')\n",
    "\n",
    "with open(\"../plotters/deduped_config.json\") as f:\n",
    "    kl_config = json.load(f)\n",
    "\n",
    "with open(\"../common/input_text_tokenized.json\") as f:\n",
    "    tokenized_text = json.load(f)\n",
    "\n",
    "# Function to load the appropriate .npy file\n",
    "def load_npy_file(model_name, revision, middle=\"-\", appendix=\"kl\"):\n",
    "    # Replace '/' with '_' in model name\n",
    "    model_name_sanitized = model_name.replace('/', '-')\n",
    "    \n",
    "    # Construct the filename\n",
    "    filename = f\"{model_name_sanitized}{middle}{revision}{middle}{appendix}.npy\"\n",
    "    \n",
    "    # Construct the full path to the file\n",
    "    filepath = os.path.join(\"../results/deduped\", filename)\n",
    "    \n",
    "    # Load the .npy file\n",
    "    if os.path.exists(filepath):\n",
    "        data = np.load(filepath)\n",
    "        return data\n",
    "    else:\n",
    "        raise FileNotFoundError(f\"The file {filename} does not exist in the 'results' folder.\")\n",
    "\n",
    "# Function to find the index of the model_name and revision combination in the KL data\n",
    "def find_comparison_index(kl_config, model_name, revision):\n",
    "    try:\n",
    "        model_names = kl_config['model_names']\n",
    "        revisions = kl_config['revisions']\n",
    "        model_index = model_names.index(model_name)\n",
    "        revision_index = revisions.index(revision)\n",
    "        return model_index * len(revisions) + revision_index\n",
    "    except ValueError:\n",
    "        return -1\n",
    "\n",
    "# Function to retrieve the (1, 4171) slice from the data\n",
    "def get_comparison_data(kl_config, data, target_model_name, target_revision):\n",
    "    # Find the comparison index\n",
    "    comparison_index = find_comparison_index(kl_config, target_model_name, target_revision)\n",
    "    \n",
    "    # Return the corresponding (1, 4171) data slice\n",
    "    return data[comparison_index, :]\n",
    "\n",
    "def color_text(color_array):\n",
    "    cmap = matplotlib.cm.Blues\n",
    "    norm = matplotlib.colors.Normalize(vmin=0, vmax=10)\n",
    "    template = '<span class=\"barcode\"; style=\"color: black; background-color: {}\">{}</span>'\n",
    "    colored_string = ''\n",
    "    for word, color in zip(tokenized_text[1:], color_array):\n",
    "        normalized_color = norm(color)\n",
    "        color_hex = matplotlib.colors.rgb2hex(cmap(normalized_color)[:3])\n",
    "        colored_string += template.format(color_hex, word)\n",
    "    colored_string += '<hr/>'\n",
    "    return colored_string"
   ]
  },
  {
   "cell_type": "markdown",
   "id": "d36ffbf8-f382-4917-82bc-88bcba425bb1",
   "metadata": {},
   "source": [
    "# The following code is for all the individual plots"
   ]
  },
  {
   "cell_type": "code",
   "execution_count": 2,
   "id": "42f5629f-b33f-4178-85ac-1ec53fdb3518",
   "metadata": {},
   "outputs": [
    {
     "name": "stdout",
     "output_type": "stream",
     "text": [
      "-----------------------------1\n",
      "-----------------------------2\n",
      "-----------------------------3\n",
      "-----------------------------4\n",
      "-----------------------------5\n",
      "-----------------------------6\n",
      "-----------------------------7\n",
      "-----------------------------8\n",
      "-----------------------------9\n",
      "-----------------------------10\n",
      "-----------------------------11\n",
      "-----------------------------12\n",
      "-----------------------------13\n",
      "-----------------------------14\n",
      "-----------------------------15\n"
     ]
    }
   ],
   "source": [
    "x = 0\n",
    "for base_model_name in kl_config['model_names']:\n",
    "    for base_revision in kl_config['revisions']:\n",
    "        if (base_model_name == 'EleutherAI/pythia-12b-deduped') and (base_revision == 'step143000'):\n",
    "            for target_name in kl_config['model_names']:\n",
    "                for target_revision in kl_config['revisions']:\n",
    "                    if (target_name == base_model_name) and (base_revision == target_revision):\n",
    "                        continue\n",
    "                    else:\n",
    "                        comparison_data = get_comparison_data(kl_config, load_npy_file(base_model_name, base_revision), target_name, target_revision)\n",
    "                        if (base_model_name == 'EleutherAI/pythia-12b-deduped') and (base_revision == 'step143000'):\n",
    "                            if (target_revision == 'step143000') or (target_name == 'EleutherAI/pythia-12b-deduped'):\n",
    "                                html_content = color_text(comparison_data)\n",
    "\n",
    "                                with open(f'../graphics/comparison{x}.html', 'w') as file:\n",
    "                                    file.write(html_content)\n",
    "                                x += 1\n",
    "                                print(f\"-----------------------------{x}\")"
   ]
  },
  {
   "cell_type": "code",
   "execution_count": null,
   "id": "b0310014-3077-4fa0-bfd2-67df9396e75f",
   "metadata": {},
   "outputs": [],
   "source": []
  }
 ],
 "metadata": {
  "kernelspec": {
   "display_name": "Python 3 (ipykernel)",
   "language": "python",
   "name": "python3"
  },
  "language_info": {
   "codemirror_mode": {
    "name": "ipython",
    "version": 3
   },
   "file_extension": ".py",
   "mimetype": "text/x-python",
   "name": "python",
   "nbconvert_exporter": "python",
   "pygments_lexer": "ipython3",
   "version": "3.12.0"
  }
 },
 "nbformat": 4,
 "nbformat_minor": 5
}
